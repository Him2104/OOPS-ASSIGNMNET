{
  "nbformat": 4,
  "nbformat_minor": 0,
  "metadata": {
    "colab": {
      "provenance": []
    },
    "kernelspec": {
      "name": "python3",
      "display_name": "Python 3"
    },
    "language_info": {
      "name": "python"
    }
  },
  "cells": [
    {
      "cell_type": "markdown",
      "source": [
        " # OOPS ASSIGNMENT ( THEORY )\n",
        "\n",
        " 1) What is Object-Oriented Programming (OOP) ?\n",
        "\n",
        "\n",
        " -  Object-Oriented Programming (OOP) is a programming approach that uses objects and classes to organize code. It is based on four main principles: Encapsulation, Inheritance, Polymorphism, and Abstraction\n",
        "\n",
        "2) What is a class in OOP ?\n",
        "\n",
        "-  A class in OOP is a blueprint or template for creating objects. It defines the attributes (data) and methods (functions) that the objects created from the class will have.\n",
        "\n",
        "\n",
        "3) What is an object in OOP ?\n",
        "\n",
        "-  An object in OOP is an instance of a class. It represents a real-world entity with attributes (data) and behavior (methods) defined by its class.\n",
        "\n",
        "\n",
        "4)  What is the difference between abstraction and encapsulation?\n",
        "\n",
        "-  Abstraction hides unnecessary details and shows only essential features.\n",
        "Encapsulation binds data and methods together and restricts direct access to some parts.\n",
        "\n",
        "5) What are dunder methods in Python ?\n",
        "  - Dunder methods (short for “double underscore” methods) in Python are special methods with names surrounded by double underscores (e.g., __init__, __str__, __len__). They are used to define the behavior of objects with built-in functions and operators.\n",
        "\n",
        "6) Explain the concept of inheritance in OOP ?\n",
        "\n",
        "-  Inheritance in Object-Oriented Programming (OOP) is a concept where a child class (or subclass) inherits properties and methods from a parent class (or superclass).\n",
        "\n",
        "7) What is polymorphism in OOP ?\n",
        "-  Polymorphism in OOP means the same function or method can behave differently based on the object calling it\n",
        "\n",
        "8) How is encapsulation achieved in Python ?\n",
        "\n",
        "-  Encapsulation in Python is achieved by:\n",
        "\n",
        "-  Defining a class to group data (attributes) and methods.\n",
        "\n",
        "-  Using access modifiers:\n",
        "\n",
        "-  _variable: Protected (convention)\n",
        "\n",
        "-  __variable: Private (name mangling)\n",
        "\n",
        "9) What is a constructor in Python ?\n",
        "\n",
        "- A constructor in Python is a special method called __init__() that is automatically invoked when an object is created. It is used to initialize the object’s attributes.\n",
        "\n",
        "10) What are class and static methods in Python ?\n",
        "  -\n",
        "A constructor in Python is a special method called __init__() that is automatically invoked when an object is created. It is used to initialize the object’s attributes\n",
        "\n",
        "11) What is method overloading in Python ?\n",
        "\n",
        "  - Method overloading in Python is achieved using default arguments or *args/**kwargs`, as Python does not support traditional method overloading.\n",
        "\n",
        "12) What is method overriding in OOP ?\n",
        "\n",
        "  - Method overriding is when a subclass provides a new implementation of a method that is already defined in its superclass.\n",
        "\n",
        "13) What is a property decorator in Python ?\n",
        "\n",
        "  - A property decorator (@property) in Python is used to define a method as a read-only property, allowing access like an attribute.\n",
        "\n",
        "14 ) Why is polymorphism important in OOP ?\n",
        "\n",
        "  - Polymorphism is important in OOP because it allows different classes to be treated through the same interface, making code more flexible, reusable, and maintainable.?\n",
        "\n",
        "15) What is an abstract class in Python ?\n",
        "\n",
        "  - An abstract class in Python is a class that cannot be instantiated and is used to define a common interface for its subclasses. It is created using the ABC module and must have at least one abstract method.\n",
        "\n",
        "16) What are the advantages of OOP ?\n",
        "\n",
        " - Modularity – Code is organized into classes.\n",
        "\n",
        " - Reusability – Use existing code through inheritance.\n",
        "\n",
        " - Scalability – Easy to expand and maintain.\n",
        "\n",
        " - Data hiding – Protects data using encapsulation.\n",
        "\n",
        " - Abstraction – Hides complexity from the user.\n",
        "\n",
        " - Polymorphism – One interface, many implementations.\n",
        "\n",
        "17) What is the difference between a class variable and an instance variable ?\n",
        "\n",
        " - Class Variable: Shared by all objects of a class.\n",
        "Instance Variable: Unique to each object (instance) of the class.\n",
        "\n",
        "18) What is multiple inheritance in Python ?\n",
        "\n",
        " - Multiple inheritance in Python means a class can inherit from more than one parent class, gaining properties and methods from all.\n",
        "\n",
        "19) Explain the purpose of ‘’__str__’ and ‘__repr__’ ‘ methods in Python ?\n",
        "\n",
        " - __str__: Returns a user-friendly string representation of an object (used by print()).\n",
        "\n",
        " - __repr__: Returns a developer-friendly string representation for debugging (used by repr()).\n",
        "\n",
        "20) What is the significance of the ‘super()’ function in Python ?\n",
        "\n",
        "  - The super() function in Python is used to call methods from a parent class. It allows access to inherited methods without explicitly naming the parent class.\n",
        "\n",
        "21) What is the significance of the __del__ method in Python ?\n",
        "\n",
        " - The __del__ method in Python is a destructor. It is called automatically when an object is about to be deleted to perform cleanup tasks like closing files or releasing resources.\n",
        "\n",
        "22) What is the difference between @staticmethod and @classmethod in Python ?\n",
        "\n",
        "  - Difference between @staticmethod and @classmethod:\n",
        "\n",
        "Feature\t@staticmethod\t@classmethod\n",
        "Takes implicit arg\tNo (self or cls not passed)\tYes (cls is passed automatically)\n",
        "Access to class?\tNo\tYes\n",
        "Use case\tUtility functions\tFactory methods or accessing class state\n",
        "\n",
        "23) How does polymorphism work in Python with inheritance ?\n",
        "\n",
        "  - Polymorphism with inheritance in Python allows child classes to override methods of a parent class, and lets you use a common interface to call those methods, even though behavior differs.\n",
        "\n",
        "24) What is method chaining in Python OOP ?\n",
        "\n",
        "  - Method chaining in Python OOP is a technique where multiple methods are called in a single line by returning self from each method.\n",
        "\n",
        "25) What is the purpose of the __call__ method in Python?\n",
        "\n",
        " - The __call__ method in Python allows an object to be called like a function.\n",
        "\n",
        "#oop practical question\n",
        "\n",
        "1) Create a parent class Animal with a method speak() that prints a generic message. Create a child class Dog\n",
        "that overrides the speak() method to print \"Bark!\"?\n",
        "\n",
        " -\n",
        "\n",
        "\n",
        "\n",
        "\n",
        "\n",
        "\n",
        "\n",
        "\n",
        "\n",
        "\n",
        "\n",
        "\n",
        "\n",
        "\n",
        "\n",
        "\n",
        "\n",
        "\n",
        "\n",
        "\n",
        "\n",
        "\n",
        "\n",
        "\n",
        "\n",
        "\n",
        "\n",
        "\n",
        "\n",
        "\n",
        "\n",
        "\n",
        "\n",
        "\n",
        "\n",
        "\n"
      ],
      "metadata": {
        "id": "sxNGm-B2hV9a"
      }
    },
    {
      "cell_type": "code",
      "source": [
        "class Animal:\n",
        "    def speak(self):\n",
        "        print(\"Animal speaks\")\n",
        "\n",
        "class Dog(Animal):\n",
        "    def speak(self):\n",
        "        print(\"Bark!\")\n",
        "\n",
        "# Example usage\n",
        "a = Animal()\n",
        "a.speak()  # Output: Animal speaks\n",
        "\n",
        "d = Dog()\n",
        "d.speak()  # Output: Bark!\n"
      ],
      "metadata": {
        "colab": {
          "base_uri": "https://localhost:8080/"
        },
        "id": "v-XD1RrIPge7",
        "outputId": "bb2475e6-0d27-431d-d2a8-bb1217a52ea0"
      },
      "execution_count": null,
      "outputs": [
        {
          "output_type": "stream",
          "name": "stdout",
          "text": [
            "Animal speaks\n",
            "Bark!\n"
          ]
        }
      ]
    },
    {
      "cell_type": "markdown",
      "source": [
        "2) Write a program to create an abstract class Shape with a method area(). Derive classes Circle and Rectangle\n",
        "from it and implement the area() method in both.?\n"
      ],
      "metadata": {
        "id": "Nea7z-h2PrfD"
      }
    },
    {
      "cell_type": "code",
      "source": [
        "from abc import ABC, abstractmethod\n",
        "import math\n",
        "\n",
        "# Abstract class\n",
        "class Shape(ABC):\n",
        "    @abstractmethod\n",
        "    def area(self):\n",
        "        pass\n",
        "\n",
        "# Derived class: Circle\n",
        "class Circle(Shape):\n",
        "    def __init__(self, radius):\n",
        "        self.radius = radius\n",
        "\n",
        "    def area(self):\n",
        "        return math.pi * self.radius ** 2\n",
        "\n",
        "# Derived class: Rectangle\n",
        "class Rectangle(Shape):\n",
        "    def __init__(self, length, width):\n",
        "        self.length = length\n",
        "        self.width = width\n",
        "\n",
        "    def area(self):\n",
        "        return self.length * self.width\n",
        "\n",
        "# Example usage\n",
        "c = Circle(5)\n",
        "print(\"Circle Area:\", c.area())  # Output: Circle Area: 78.53981633974483\n",
        "\n",
        "r = Rectangle(4, 6)\n",
        "print(\"Rectangle Area:\", r.area())  # Output: Rectangle Area: 24\n"
      ],
      "metadata": {
        "colab": {
          "base_uri": "https://localhost:8080/"
        },
        "id": "BfbYwsWAPwi3",
        "outputId": "867a6eb6-0b2d-42ed-be58-dd633d9b9e60"
      },
      "execution_count": null,
      "outputs": [
        {
          "output_type": "stream",
          "name": "stdout",
          "text": [
            "Circle Area: 78.53981633974483\n",
            "Rectangle Area: 24\n"
          ]
        }
      ]
    },
    {
      "cell_type": "markdown",
      "source": [
        "3)  Implement a multi-level inheritance scenario where a class Vehicle has an attribute type. Derive a class Car\n",
        "and further derive a class ElectricCar that adds a battery attribute. ?"
      ],
      "metadata": {
        "id": "9BuvRq-cP38f"
      }
    },
    {
      "cell_type": "code",
      "source": [
        "# Base class\n",
        "class Vehicle:\n",
        "    def __init__(self, vehicle_type):\n",
        "        self.vehicle_type = vehicle_type\n",
        "\n",
        "# Derived class\n",
        "class Car(Vehicle):\n",
        "    def __init__(self, vehicle_type, brand):\n",
        "        super().__init__(vehicle_type)\n",
        "        self.brand = brand\n",
        "\n",
        "# Further derived class\n",
        "class ElectricCar(Car):\n",
        "    def __init__(self, vehicle_type, brand, battery):\n",
        "        super().__init__(vehicle_type, brand)\n",
        "        self.battery = battery\n",
        "\n",
        "# Example usage\n",
        "ecar = ElectricCar(\"Four-wheeler\", \"Tesla\", \"100 kWh\")\n",
        "print(\"Type:\", ecar.vehicle_type)     # Output: Type: Four-wheeler\n",
        "print(\"Brand:\", ecar.brand)           # Output: Brand: Tesla\n",
        "print(\"Battery:\", ecar.battery)       # Output: Battery: 100 kWh\n"
      ],
      "metadata": {
        "colab": {
          "base_uri": "https://localhost:8080/"
        },
        "id": "KXemivpeQBDU",
        "outputId": "a7f77253-9a2d-4ca5-f5d7-81d02059866d"
      },
      "execution_count": null,
      "outputs": [
        {
          "output_type": "stream",
          "name": "stdout",
          "text": [
            "Type: Four-wheeler\n",
            "Brand: Tesla\n",
            "Battery: 100 kWh\n"
          ]
        }
      ]
    },
    {
      "cell_type": "markdown",
      "source": [
        "4 ) Demonstrate polymorphism by creating a base class Bird with a method fly(). Create two derived classes\n",
        "Sparrow and Penguin that override the fly() method. ?\n",
        "\n"
      ],
      "metadata": {
        "id": "AaqJQEbZQGjl"
      }
    },
    {
      "cell_type": "code",
      "source": [
        "# Base class\n",
        "class Bird:\n",
        "    def fly(self):\n",
        "        print(\"Some birds can fly.\")\n",
        "\n",
        "# Derived class: Sparrow\n",
        "class Sparrow(Bird):\n",
        "    def fly(self):\n",
        "        print(\"Sparrow flies high in the sky.\")\n",
        "\n",
        "# Derived class: Penguin\n",
        "class Penguin(Bird):\n",
        "    def fly(self):\n",
        "        print(\"Penguins cannot fly, they swim.\")\n",
        "\n",
        "# Polymorphism in action\n",
        "def bird_flight(bird):\n",
        "    bird.fly()\n",
        "\n",
        "# Example usage\n",
        "bird_flight(Sparrow())  # Output: Sparrow flies high in the sky.\n",
        "bird_flight(Penguin())  # Output: Penguins cannot fly, they swim.\n"
      ],
      "metadata": {
        "colab": {
          "base_uri": "https://localhost:8080/"
        },
        "id": "GGkkh7TaQPBb",
        "outputId": "49859b89-57fa-4037-f3ae-93a03e655209"
      },
      "execution_count": null,
      "outputs": [
        {
          "output_type": "stream",
          "name": "stdout",
          "text": [
            "Sparrow flies high in the sky.\n",
            "Penguins cannot fly, they swim.\n"
          ]
        }
      ]
    },
    {
      "cell_type": "markdown",
      "source": [
        "5)  Write a program to demonstrate encapsulation by creating a class BankAccount with private attributes\n",
        "balance and methods to deposit, withdraw, and check balance.?"
      ],
      "metadata": {
        "id": "D8UOQ687QisC"
      }
    },
    {
      "cell_type": "code",
      "source": [
        "class BankAccount:\n",
        "    def __init__(self, initial_balance=0):\n",
        "        self.__balance = initial_balance  # Private attribute\n",
        "\n",
        "    def deposit(self, amount):\n",
        "        if amount > 0:\n",
        "            self.__balance += amount\n",
        "            print(f\"Deposited: {amount}\")\n",
        "        else:\n",
        "            print(\"Invalid deposit amount.\")\n",
        "\n",
        "    def withdraw(self, amount):\n",
        "        if 0 < amount <= self.__balance:\n",
        "            self.__balance -= amount\n",
        "            print(f\"Withdrawn: {amount}\")\n",
        "        else:\n",
        "            print(\"Insufficient balance or invalid amount.\")\n",
        "\n",
        "    def check_balance(self):\n",
        "        print(f\"Current Balance: {self.__balance}\")\n",
        "\n",
        "# Example usage\n",
        "account = BankAccount(1000)\n",
        "account.deposit(500)         # Deposited: 500\n",
        "account.withdraw(200)        # Withdrawn: 200\n",
        "account.check_balance()      # Current Balance: 1300\n"
      ],
      "metadata": {
        "colab": {
          "base_uri": "https://localhost:8080/"
        },
        "id": "DtKUzHKxQxEJ",
        "outputId": "8d63f1e9-291b-420e-d352-6558494b3c6e"
      },
      "execution_count": null,
      "outputs": [
        {
          "output_type": "stream",
          "name": "stdout",
          "text": [
            "Deposited: 500\n",
            "Withdrawn: 200\n",
            "Current Balance: 1300\n"
          ]
        }
      ]
    },
    {
      "cell_type": "markdown",
      "source": [
        "6)  Demonstrate runtime polymorphism using a method play() in a base class Instrument. Derive classes Guitar\n",
        "and Piano that implement their own version of play()."
      ],
      "metadata": {
        "id": "TUO_RXCQPjCt"
      }
    },
    {
      "cell_type": "code",
      "source": [
        "class Instrument:\n",
        "    def play(self):\n",
        "        print(\"Instrument is playing\")\n",
        "\n",
        "# Derived class: Guitar\n",
        "class Guitar(Instrument):\n",
        "    def play(self):\n",
        "        print(\"Guitar is strumming\")\n",
        "\n",
        "# Derived class: Piano\n",
        "class Piano(Instrument):\n",
        "    def play(self):\n",
        "        print(\"Piano is playing\")\n",
        "\n",
        "# Function to demonstrate runtime polymorphism\n",
        "def perform(instrument):\n",
        "    instrument.play()\n"
      ],
      "metadata": {
        "id": "GO432vZBN5yD"
      },
      "execution_count": 3,
      "outputs": []
    },
    {
      "cell_type": "markdown",
      "source": [
        "7) Create a class MathOperations with a class method add_numbers() to add two numbers and a static\n",
        "method subtract_numbers() to subtract two numbers."
      ],
      "metadata": {
        "id": "wJsz2vhpOBa_"
      }
    },
    {
      "cell_type": "code",
      "source": [
        "class MathOperations:\n",
        "    @classmethod\n",
        "    def add_numbers(cls, a, b):\n",
        "        return a + b\n",
        "\n",
        "    @staticmethod\n",
        "    def subtract_numbers(a, b):\n",
        "        return a - b\n",
        "\n",
        "# Example usage\n",
        "print(\"Addition:\", MathOperations.add_numbers(10, 5))       # Output: Addition: 15\n",
        "print(\"Subtraction:\", MathOperations.subtract_numbers(10, 5))  # Output: Subtraction: 5\n"
      ],
      "metadata": {
        "colab": {
          "base_uri": "https://localhost:8080/"
        },
        "id": "eIIe7dVqOJeU",
        "outputId": "24465cbb-ed0e-4c9c-e42c-69ba3e5d45b1"
      },
      "execution_count": 4,
      "outputs": [
        {
          "output_type": "stream",
          "name": "stdout",
          "text": [
            "Addition: 15\n",
            "Subtraction: 5\n"
          ]
        }
      ]
    },
    {
      "cell_type": "markdown",
      "source": [
        "8)  Implement a class Person with a class method to count the total number of persons created ?"
      ],
      "metadata": {
        "id": "CHhnGK_BOZxB"
      }
    },
    {
      "cell_type": "code",
      "source": [
        "class Person:\n",
        "    count = 0  # Class variable to count instances\n",
        "\n",
        "    def __init__(self, name):\n",
        "        self.name = name\n",
        "        Person.count += 1\n",
        "\n",
        "    @classmethod\n",
        "    def total_persons(cls):\n",
        "        return cls.count\n",
        "\n",
        "# Example usage\n",
        "p1 = Person(\"Alice\")\n",
        "p2 = Person(\"Bob\")\n",
        "p3 = Person(\"Charlie\")\n",
        "\n",
        "print(\"Total Persons:\", Person.total_persons())  # Output: Total Persons: 3\n"
      ],
      "metadata": {
        "colab": {
          "base_uri": "https://localhost:8080/"
        },
        "id": "XMm0xIRxOdRJ",
        "outputId": "34ba0d6f-90bc-4675-de0e-a800ad558596"
      },
      "execution_count": 5,
      "outputs": [
        {
          "output_type": "stream",
          "name": "stdout",
          "text": [
            "Total Persons: 3\n"
          ]
        }
      ]
    },
    {
      "cell_type": "markdown",
      "source": [
        "9)  Write a class Fraction with attributes numerator and denominator. Override the str method to display the\n",
        "fraction as \"numerator/denominator\".?"
      ],
      "metadata": {
        "id": "gh80I_DzOvC1"
      }
    },
    {
      "cell_type": "code",
      "source": [
        "class Fraction:\n",
        "    def __init__(self, numerator, denominator):\n",
        "        self.numerator = numerator\n",
        "        self.denominator = denominator\n",
        "\n",
        "    def __str__(self):\n",
        "        return f\"{self.numerator}/{self.denominator}\"\n",
        "\n",
        "# Example usage\n",
        "f = Fraction(3, 4)\n",
        "print(f)\n"
      ],
      "metadata": {
        "colab": {
          "base_uri": "https://localhost:8080/"
        },
        "id": "WFSUzFaTO3t4",
        "outputId": "d74c8baa-0678-4a05-f642-634d7f659e27"
      },
      "execution_count": 6,
      "outputs": [
        {
          "output_type": "stream",
          "name": "stdout",
          "text": [
            "3/4\n"
          ]
        }
      ]
    },
    {
      "cell_type": "markdown",
      "source": [
        "10) Demonstrate operator overloading by creating a class Vector and overriding the add method to add two\n",
        "vectors.?"
      ],
      "metadata": {
        "id": "qTdpNfpDPP5r"
      }
    },
    {
      "cell_type": "code",
      "source": [
        "class Vector:\n",
        "    def __init__(self, x, y):\n",
        "        self.x = x\n",
        "        self.y = y\n",
        "\n",
        "    def __add__(self, other):\n",
        "        return Vector(self.x + other.x, self.y + other.y)\n",
        "\n",
        "    def __str__(self):\n",
        "        return f\"({self.x}, {self.y})\"\n",
        "\n",
        "# Example usage\n",
        "v1 = Vector(2, 3)\n",
        "v2 = Vector(4, 5)\n",
        "v3 = v1 + v2\n",
        "print(v3)  # Output: (6, 8)\n"
      ],
      "metadata": {
        "colab": {
          "base_uri": "https://localhost:8080/"
        },
        "id": "tBbWLXPJPVcW",
        "outputId": "af8e0956-e6ff-48dc-a51d-ac81865bff11"
      },
      "execution_count": 7,
      "outputs": [
        {
          "output_type": "stream",
          "name": "stdout",
          "text": [
            "(6, 8)\n"
          ]
        }
      ]
    },
    {
      "cell_type": "markdown",
      "source": [
        "11 )  Create a class Person with attributes name and age. Add a method greet() that prints \"Hello, my name is\n",
        "{name} and I am {age} years old.\" ?"
      ],
      "metadata": {
        "id": "FbOlJP_dPjP1"
      }
    },
    {
      "cell_type": "code",
      "source": [
        "class Person:\n",
        "    def __init__(self, name, age):\n",
        "        self.name = name\n",
        "        self.age = age\n",
        "\n",
        "    def greet(self):\n",
        "        print(f\"Hello, my name is {self.name} and I am {self.age} years old.\")\n",
        "\n",
        "# Example usage\n",
        "p = Person(\"Alice\", 25)\n",
        "p.greet()  # Output: Hello, my name is Alice and I am 25 years old.\n"
      ],
      "metadata": {
        "colab": {
          "base_uri": "https://localhost:8080/"
        },
        "id": "OMmvDQ8HPonC",
        "outputId": "f46ee359-54f5-47a9-e521-cdedc14b001c"
      },
      "execution_count": 8,
      "outputs": [
        {
          "output_type": "stream",
          "name": "stdout",
          "text": [
            "Hello, my name is Alice and I am 25 years old.\n"
          ]
        }
      ]
    },
    {
      "cell_type": "markdown",
      "source": [
        "12) Implement a class Student with attributes name and grades. Create a method average_grade() to compute\n",
        "the average of the grades. ?"
      ],
      "metadata": {
        "id": "Oal6-2qjPvG1"
      }
    },
    {
      "cell_type": "code",
      "source": [
        "class Student:\n",
        "    def __init__(self, name, grades):\n",
        "        self.name = name\n",
        "        self.grades = grades  # List of grades\n",
        "\n",
        "    def average_grade(self):\n",
        "        if self.grades:\n",
        "            return sum(self.grades) / len(self.grades)\n",
        "        else:\n",
        "            return 0\n",
        "\n",
        "# Example usage\n",
        "s = Student(\"Rahul\", [85, 90, 78, 92])\n",
        "print(\"Average Grade:\", s.average_grade())  # Output: Average Grade: 86.25\n"
      ],
      "metadata": {
        "colab": {
          "base_uri": "https://localhost:8080/"
        },
        "id": "c2xg-CZiPr8H",
        "outputId": "a4c6b15e-c0ea-465d-9e60-70caf17e4cb2"
      },
      "execution_count": 9,
      "outputs": [
        {
          "output_type": "stream",
          "name": "stdout",
          "text": [
            "Average Grade: 86.25\n"
          ]
        }
      ]
    },
    {
      "cell_type": "markdown",
      "source": [
        "13)  Create a class Rectangle with methods set_dimensions() to set the dimensions and area() to calculate the\n",
        "area. ?"
      ],
      "metadata": {
        "id": "GZBQZpVNP8Na"
      }
    },
    {
      "cell_type": "code",
      "source": [
        "class Rectangle:\n",
        "    def set_dimensions(self, length, width):\n",
        "        self.length = length\n",
        "        self.width = width\n",
        "\n",
        "    def area(self):\n",
        "        return self.length * self.width\n",
        "\n",
        "# Example usage\n",
        "r = Rectangle()\n",
        "r.set_dimensions(5, 3)\n",
        "print(\"Area:\", r.area())  # Output: Area: 15\n"
      ],
      "metadata": {
        "colab": {
          "base_uri": "https://localhost:8080/"
        },
        "id": "7jLIyEWsQEl3",
        "outputId": "98a567be-95f4-4cc3-8ecb-b9a3b99f6cfe"
      },
      "execution_count": 10,
      "outputs": [
        {
          "output_type": "stream",
          "name": "stdout",
          "text": [
            "Area: 15\n"
          ]
        }
      ]
    },
    {
      "cell_type": "markdown",
      "source": [
        "14)  Create a class Employee with a method calculate_salary() that computes the salary based on hours worked\n",
        "and hourly rate. Create a derived class Manager that adds a bonus to the salary.?"
      ],
      "metadata": {
        "id": "RXY1cYsSQGOf"
      }
    },
    {
      "cell_type": "code",
      "source": [
        "# Base class\n",
        "class Employee:\n",
        "    def __init__(self, hours_worked, hourly_rate):\n",
        "        self.hours_worked = hours_worked\n",
        "        self.hourly_rate = hourly_rate\n",
        "\n",
        "    def calculate_salary(self):\n",
        "        return self.hours_worked * self.hourly_rate\n",
        "\n",
        "# Derived class\n",
        "class Manager(Employee):\n",
        "    def __init__(self, hours_worked, hourly_rate, bonus):\n",
        "        super().__init__(hours_worked, hourly_rate)\n",
        "        self.bonus = bonus\n",
        "\n",
        "    def calculate_salary(self):\n",
        "        base_salary = super().calculate_salary()\n",
        "        return base_salary + self.bonus\n",
        "\n",
        "# Example usage\n",
        "e = Employee(40, 50)\n",
        "print(\"Employee Salary:\", e.calculate_salary())  # Output: Employee Salary: 2000\n",
        "\n",
        "m = Manager(40, 50, 1000)\n",
        "print(\"Manager Salary:\", m.calculate_salary())   # Output: Manager Salary: 3000\n"
      ],
      "metadata": {
        "colab": {
          "base_uri": "https://localhost:8080/"
        },
        "id": "GIgAHHwBQKig",
        "outputId": "00ccf27b-97dd-42c8-ce64-837afc3c6d49"
      },
      "execution_count": 11,
      "outputs": [
        {
          "output_type": "stream",
          "name": "stdout",
          "text": [
            "Employee Salary: 2000\n",
            "Manager Salary: 3000\n"
          ]
        }
      ]
    },
    {
      "cell_type": "markdown",
      "source": [
        "15)  Create a class Product with attributes name, price, and quantity. Implement a method total_price() that\n",
        "calculates the total price of the product.?"
      ],
      "metadata": {
        "id": "Pt2nlVJpQTfC"
      }
    },
    {
      "cell_type": "code",
      "source": [
        "class Product:\n",
        "    def __init__(self, name, price, quantity):\n",
        "        self.name = name\n",
        "        self.price = price\n",
        "        self.quantity = quantity\n",
        "\n",
        "    def total_price(self):\n",
        "        return self.price * self.quantity\n",
        "\n",
        "# Example usage\n",
        "product = Product(\"Mobile\", 15000, 3)\n",
        "print(\"Total Price:\", product.total_price())  # Output: Total Price: 45000\n"
      ],
      "metadata": {
        "colab": {
          "base_uri": "https://localhost:8080/"
        },
        "id": "B3ZFow7gQmQl",
        "outputId": "27852e71-2e0d-4c2e-f88a-f746d53d561f"
      },
      "execution_count": 12,
      "outputs": [
        {
          "output_type": "stream",
          "name": "stdout",
          "text": [
            "Total Price: 45000\n"
          ]
        }
      ]
    },
    {
      "cell_type": "markdown",
      "source": [
        "16)  Create a class Animal with an abstract method sound(). Create two derived classes Cow and Sheep that\n",
        "implement the sound() method.?"
      ],
      "metadata": {
        "id": "XAdlO9QZQr_8"
      }
    },
    {
      "cell_type": "code",
      "source": [
        "from abc import ABC, abstractmethod\n",
        "\n",
        "# Abstract base class\n",
        "class Animal(ABC):\n",
        "    @abstractmethod\n",
        "    def sound(self):\n",
        "        pass\n",
        "\n",
        "# Derived class: Cow\n",
        "class Cow(Animal):\n",
        "    def sound(self):\n",
        "        print(\"Cow says Moo\")\n",
        "\n",
        "# Derived class: Sheep\n",
        "class Sheep(Animal):\n",
        "    def sound(self):\n",
        "        print(\"Sheep says Baa\")\n",
        "\n",
        "# Example usage\n",
        "cow = Cow()\n",
        "cow.sound()    # Output: Cow says Moo\n",
        "\n",
        "sheep = Sheep()\n",
        "sheep.sound()  # Output: Sheep says Baa\n"
      ],
      "metadata": {
        "colab": {
          "base_uri": "https://localhost:8080/"
        },
        "id": "LnMr0s4ZQwc6",
        "outputId": "e5fe3800-6620-4507-a457-fce428085f12"
      },
      "execution_count": 13,
      "outputs": [
        {
          "output_type": "stream",
          "name": "stdout",
          "text": [
            "Cow says Moo\n",
            "Sheep says Baa\n"
          ]
        }
      ]
    },
    {
      "cell_type": "markdown",
      "source": [
        "17)  Create a class Book with attributes title, author, and year_published. Add a method get_book_info() that\n",
        "returns a formatted string with the book's details.?"
      ],
      "metadata": {
        "id": "0eWyedmdQ2xW"
      }
    },
    {
      "cell_type": "code",
      "source": [
        "class Book:\n",
        "    def __init__(self, title, author, year_published):\n",
        "        self.title = title\n",
        "        self.author = author\n",
        "        self.year_published = year_published\n",
        "\n",
        "    def get_book_info(self):\n",
        "        return f\"'{self.title}' by {self.author}, published in {self.year_published}\"\n",
        "\n",
        "# Example usage\n",
        "b = Book(\"To Kill a Mockingbird\", \"Harper Lee\", 1960)\n",
        "print(b.get_book_info())  # Output: 'To Kill a Mockingbird' by Harper Lee, published in 1960\n"
      ],
      "metadata": {
        "colab": {
          "base_uri": "https://localhost:8080/"
        },
        "id": "-I69lXatQ9ww",
        "outputId": "24112a79-d9ad-495b-a3cc-0165de9b99ea"
      },
      "execution_count": 14,
      "outputs": [
        {
          "output_type": "stream",
          "name": "stdout",
          "text": [
            "'To Kill a Mockingbird' by Harper Lee, published in 1960\n"
          ]
        }
      ]
    },
    {
      "cell_type": "markdown",
      "source": [
        "18) Create a class House with attributes address and price. Create a derived class Mansion that adds an\n",
        "attribute number_of_rooms.?"
      ],
      "metadata": {
        "id": "-INmBaDrRB9U"
      }
    },
    {
      "cell_type": "code",
      "source": [
        "# Base class\n",
        "class House:\n",
        "    def __init__(self, address, price):\n",
        "        self.address = address\n",
        "        self.price = price\n",
        "\n",
        "# Derived class\n",
        "class Mansion(House):\n",
        "    def __init__(self, address, price, number_of_rooms):\n",
        "        super().__init__(address, price)\n",
        "        self.number_of_rooms = number_of_rooms\n",
        "\n",
        "# Example usage\n",
        "m = Mansion(\"123 Luxury St\", 50000000, 10)\n",
        "print(\"Address:\", m.address)                # Output: Address: 123 Luxury St\n",
        "print(\"Price:\", m.price)                    # Output: Price: 50000000\n",
        "print(\"Number of Rooms:\", m.number_of_rooms)  # Output: Number of Rooms: 10\n"
      ],
      "metadata": {
        "colab": {
          "base_uri": "https://localhost:8080/"
        },
        "id": "8s9GjwKNRJx2",
        "outputId": "b0bb494a-87f0-4ff0-e6b0-651a2e9d3750"
      },
      "execution_count": 15,
      "outputs": [
        {
          "output_type": "stream",
          "name": "stdout",
          "text": [
            "Address: 123 Luxury St\n",
            "Price: 50000000\n",
            "Number of Rooms: 10\n"
          ]
        }
      ]
    },
    {
      "cell_type": "markdown",
      "source": [],
      "metadata": {
        "id": "YSCj2U9NPs_b"
      }
    }
  ]
}